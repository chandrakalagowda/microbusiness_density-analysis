{
 "cells": [
  {
   "cell_type": "markdown",
   "metadata": {},
   "source": [
    "# GoDaddy - Microbusiness Density Forecasting\n"
   ]
  },
  {
   "cell_type": "code",
   "execution_count": 1,
   "metadata": {
    "execution": {
     "iopub.execute_input": "2023-01-26T10:00:22.447809Z",
     "iopub.status.busy": "2023-01-26T10:00:22.446784Z",
     "iopub.status.idle": "2023-01-26T10:00:22.468515Z",
     "shell.execute_reply": "2023-01-26T10:00:22.467335Z",
     "shell.execute_reply.started": "2023-01-26T10:00:22.447755Z"
    }
   },
   "outputs": [
    {
     "data": {
      "text/html": [
       "        <script type=\"text/javascript\">\n",
       "        window.PlotlyConfig = {MathJaxConfig: 'local'};\n",
       "        if (window.MathJax) {MathJax.Hub.Config({SVG: {font: \"STIX-Web\"}});}\n",
       "        if (typeof require !== 'undefined') {\n",
       "        require.undef(\"plotly\");\n",
       "        requirejs.config({\n",
       "            paths: {\n",
       "                'plotly': ['https://cdn.plot.ly/plotly-2.11.1.min']\n",
       "            }\n",
       "        });\n",
       "        require(['plotly'], function(Plotly) {\n",
       "            window._Plotly = Plotly;\n",
       "        });\n",
       "        }\n",
       "        </script>\n",
       "        "
      ]
     },
     "metadata": {},
     "output_type": "display_data"
    },
    {
     "data": {
      "text/html": [
       "        <script type=\"text/javascript\">\n",
       "        window.PlotlyConfig = {MathJaxConfig: 'local'};\n",
       "        if (window.MathJax) {MathJax.Hub.Config({SVG: {font: \"STIX-Web\"}});}\n",
       "        if (typeof require !== 'undefined') {\n",
       "        require.undef(\"plotly\");\n",
       "        requirejs.config({\n",
       "            paths: {\n",
       "                'plotly': ['https://cdn.plot.ly/plotly-2.11.1.min']\n",
       "            }\n",
       "        });\n",
       "        require(['plotly'], function(Plotly) {\n",
       "            window._Plotly = Plotly;\n",
       "        });\n",
       "        }\n",
       "        </script>\n",
       "        "
      ]
     },
     "metadata": {},
     "output_type": "display_data"
    },
    {
     "data": {
      "text/html": [
       "        <script type=\"text/javascript\">\n",
       "        window.PlotlyConfig = {MathJaxConfig: 'local'};\n",
       "        if (window.MathJax) {MathJax.Hub.Config({SVG: {font: \"STIX-Web\"}});}\n",
       "        if (typeof require !== 'undefined') {\n",
       "        require.undef(\"plotly\");\n",
       "        requirejs.config({\n",
       "            paths: {\n",
       "                'plotly': ['https://cdn.plot.ly/plotly-2.11.1.min']\n",
       "            }\n",
       "        });\n",
       "        require(['plotly'], function(Plotly) {\n",
       "            window._Plotly = Plotly;\n",
       "        });\n",
       "        }\n",
       "        </script>\n",
       "        "
      ]
     },
     "metadata": {},
     "output_type": "display_data"
    }
   ],
   "source": [
    "import os\n",
    "import sys\n",
    "import pandas as pd\n",
    "import numpy as np\n",
    "\n",
    "from word2number import w2n\n",
    "\n",
    "pd.set_option('display.max_columns', 500)\n",
    "\n",
    "from sklearn.linear_model import LinearRegression\n",
    "from sklearn.model_selection import cross_val_score ###???###\n",
    "from sklearn.metrics import mean_absolute_error, make_scorer ###???###\n",
    "\n",
    "#Standard plotly imports\n",
    "import plotly\n",
    "import plotly.express as px\n",
    "import plotly.figure_factory as ff\n",
    "import plotly.graph_objs as go\n",
    "\n",
    "import plotly.graph_objects as go\n",
    "from plotly.offline import iplot\n",
    "\n",
    "import seaborn as sns\n",
    "import matplotlib.pyplot as plt\n",
    "\n",
    "# Using plotly + cufflinks in offline mode\n",
    "from plotly.offline import download_plotlyjs, init_notebook_mode, plot, iplot\n",
    "import cufflinks as cf\n",
    "\n",
    "cf.set_config_file(offline=True)\n",
    "init_notebook_mode(connected=True)\n",
    "\n",
    "## To display multiple output from one cell\n",
    "from IPython.core.interactiveshell import InteractiveShell\n",
    "InteractiveShell.ast_node_interactivity = \"all\"\n"
   ]
  },
  {
   "cell_type": "code",
   "execution_count": null,
   "metadata": {
    "execution": {
     "iopub.execute_input": "2023-01-26T10:09:41.832595Z",
     "iopub.status.busy": "2023-01-26T10:09:41.832224Z",
     "iopub.status.idle": "2023-01-26T10:09:42.205484Z",
     "shell.execute_reply": "2023-01-26T10:09:42.204378Z",
     "shell.execute_reply.started": "2023-01-26T10:09:41.832565Z"
    }
   },
   "outputs": [],
   "source": [
    "train=pd.read_csv('train.csv')\n",
    "test=pd.read_csv('test.csv')"
   ]
  },
  {
   "cell_type": "code",
   "execution_count": null,
   "metadata": {},
   "outputs": [],
   "source": [
    "train[\"first_day_of_month\"] = pd.to_datetime(train[\"first_day_of_month\"])\n",
    "train = train.sort_values(['cfips','first_day_of_month']).reset_index(drop=True)\n",
    "test[\"first_day_of_month\"] = pd.to_datetime(test[\"first_day_of_month\"])\n",
    "test = test.sort_values(['cfips','first_day_of_month']).reset_index(drop=True)"
   ]
  },
  {
   "cell_type": "code",
   "execution_count": null,
   "metadata": {},
   "outputs": [],
   "source": [
    "train.info()\n",
    "test.info()"
   ]
  },
  {
   "cell_type": "code",
   "execution_count": null,
   "metadata": {},
   "outputs": [],
   "source": [
    "train.describe()\n",
    "test.describe()"
   ]
  },
  {
   "cell_type": "code",
   "execution_count": null,
   "metadata": {},
   "outputs": [],
   "source": [
    "train.isnull().sum()"
   ]
  },
  {
   "cell_type": "markdown",
   "metadata": {},
   "source": [
    "#### The train data does not have any null values. \n",
    "#### A bird eye view of the train-data is shown in the form of microdensity scatter plot w.r.t date-time"
   ]
  },
  {
   "cell_type": "code",
   "execution_count": null,
   "metadata": {},
   "outputs": [],
   "source": [
    "fig = px.scatter(train, x='first_day_of_month',y='microbusiness_density', color=\"county\", symbol=\"county\")\n",
    "fig.show()"
   ]
  },
  {
   "cell_type": "code",
   "execution_count": null,
   "metadata": {},
   "outputs": [],
   "source": [
    "### The plot shows several data jumps in several of the counties. and most predominantly \n",
    "### between data points at date 01Jan2021 and 01Feb2021.\n",
    "### Use bayesoffline to find the points of data shifts."
   ]
  },
  {
   "cell_type": "code",
   "execution_count": null,
   "metadata": {},
   "outputs": [],
   "source": [
    "import sdt.changepoint as c\n",
    "f=open(\"changepoint2.txt\", \"w\")\n",
    "BayesOffline = c.BayesOffline()\n",
    "\n",
    "for cfips in train[\"cfips\"].unique():\n",
    "        df_cfips = train[train[\"cfips\"] == cfips]\n",
    "    \n",
    "        values = df_cfips[\"microbusiness_density\"].values\n",
    "\n",
    "        # Out is a list of possible changepoint \"indices\"\n",
    "        out = BayesOffline.find_changepoints(values, 0.9);\n",
    "\n",
    "        # If there is a changepoint.\n",
    "        if len(out) > 0:\n",
    "            f.write(str(cfips) + ' ')\n",
    "            f.write(str(out) + '\\n')\n",
    "f.close();"
   ]
  },
  {
   "cell_type": "code",
   "execution_count": null,
   "metadata": {},
   "outputs": [],
   "source": [
    "### To select only data shifts corresponding to the dates 01-Jan-21 and 01-Feb-2021\n",
    "f=open(\"changepoint1.txt\",\"r\")\n",
    "cfips17=list()\n",
    "for line in f:    \n",
    "    words=line.split()\n",
    "    #clusters = {}\n",
    "    if \"17\" or \"18\" in words[1] :\n",
    "        cfips17.append(w2n.word_to_num(words[0]))   \n",
    "f.close()"
   ]
  },
  {
   "cell_type": "code",
   "execution_count": null,
   "metadata": {},
   "outputs": [],
   "source": [
    "train17=train[train['cfips'].isin(cfips17)]"
   ]
  },
  {
   "cell_type": "code",
   "execution_count": null,
   "metadata": {},
   "outputs": [],
   "source": [
    "fig = px.scatter(train17, x='first_day_of_month',y='microbusiness_density', color=\"county\", symbol=\"county\")\n",
    "fig.show()"
   ]
  },
  {
   "cell_type": "code",
   "execution_count": null,
   "metadata": {},
   "outputs": [],
   "source": [
    "### To adjust for the shifts due to methodology change at 01-Jan-2021\n",
    "def shiftadjust(timeseries):\n",
    "    \"\"\"\n",
    "    Removes the level shift in the timeseries data between\n",
    "    the 17th (2021-01-01) and the 18th (2021-02-01) indices.    \n",
    "    \"\"\"\n",
    "    series = timeseries.values.copy() \n",
    "    adjust_by = series[18] - series[17] \n",
    "    series[:18] += adjust_by    \n",
    "    return series\n",
    "train17[\"microbusiness_density\"] = train17.groupby(\"cfips\")[\"microbusiness_density\"].transform(shiftadjust)"
   ]
  },
  {
   "cell_type": "code",
   "execution_count": null,
   "metadata": {},
   "outputs": [],
   "source": [
    "train17"
   ]
  },
  {
   "cell_type": "code",
   "execution_count": null,
   "metadata": {},
   "outputs": [],
   "source": [
    "train.loc[train.cfips.isin(train17.cfips), ['microbusiness_density']] = train17[['microbusiness_density']]\n",
    "\n",
    "train.to_csv('trainShiftcorrected.csv')"
   ]
  },
  {
   "cell_type": "code",
   "execution_count": null,
   "metadata": {},
   "outputs": [],
   "source": [
    "trainSC=pd.read_csv('trainShiftcorrected.csv')\n"
   ]
  },
  {
   "cell_type": "code",
   "execution_count": null,
   "metadata": {},
   "outputs": [],
   "source": [
    "fig = px.scatter(trainSC, x='first_day_of_month',y='microbusiness_density', color=\"county\", symbol=\"county\")\n",
    "fig.show()"
   ]
  },
  {
   "cell_type": "code",
   "execution_count": null,
   "metadata": {},
   "outputs": [],
   "source": [
    "InteractiveShell.ast_node_interactivity = \"last_expr_or_assign\""
   ]
  },
  {
   "cell_type": "code",
   "execution_count": null,
   "metadata": {
    "scrolled": false
   },
   "outputs": [],
   "source": [
    "# Adding a parameter Linearity to easy recognition of cfips with linear trend.\n",
    "# Also not using the population cut-off parameter to define threshold. \n",
    "\n",
    "DISPLAY = 0\n",
    "THRESHOLD = 0.103 #this is 10.3% same value as 8/78 from old notebook\n",
    "ACTIVE_THRESHOLD = 0_000\n",
    "\n",
    "IDS = trainSC.cfips.unique()\n",
    "x_trainSC = np.arange(39).reshape((-1,1))\n",
    "x_test = np.arange(38,47).reshape((-1,1))\n",
    "\n",
    "preds = np.zeros((len(IDS),8))\n",
    "linearity = np.zeros((len(IDS),8))\n",
    "last_preds = np.zeros((len(IDS),8))\n",
    "lin_trend = 0\n",
    "\n",
    "ct = 0\n",
    "for i,c in enumerate(IDS):\n",
    "    df = trainSC.loc[trainSC.cfips==c]\n",
    "    last = df.microbusiness_density.values[-1]\n",
    "    active = df.active.values[-1]\n",
    "    last_preds[i,] = [last]*8\n",
    "    \n",
    "    # FIT LINEAR REGRESSION\n",
    "    model = LinearRegression()\n",
    "    model.fit(x_trainSC,df.microbusiness_density)\n",
    "    p = model.predict(x_trainSC)\n",
    "    \n",
    "    # COMPUTE trainSC ERROR\n",
    "    err = p - df.microbusiness_density.values\n",
    "    rng = df.microbusiness_density.max() - df.microbusiness_density.min()\n",
    "    \n",
    "    # DETERMIN IF TIME SERIES IS LINEAR OR NOT\n",
    "    s = 0\n",
    "    for k in range(39):\n",
    "        e = np.abs( err[k] )\n",
    "        r = e/rng # absolute error divided by range\n",
    "        s += r\n",
    "    s = s/39 # now S is MAPE mean absolute percentage error\n",
    "    \n",
    "    # IF S <= 10% THEN WE ASSUME THIS COUNTY HAS A LINEAR TREND\n",
    "    if (s>THRESHOLD)|(active<ACTIVE_THRESHOLD): \n",
    "        preds[i,] = [last]*8\n",
    "        linearity[i,] = 0.0\n",
    "        continue\n",
    "        \n",
    "    # INFER TEST DATA WITH LINEAR REGRESSION\n",
    "    p2 = model.predict(x_test)\n",
    "    shift =  last - p2[0]\n",
    "    preds[i,] = p2[1:]+shift\n",
    "    linearity[i,] = 1.0\n",
    "    \n",
    "    # COUNT STUFF\n",
    "    ct += 1\n",
    "    lin_trend += 1\n",
    "    if ct>=DISPLAY+1: continue\n",
    "        \n",
    "    # PLOT STUFF\n",
    "    plt.figure(figsize=(20,5))\n",
    "    plt.plot(df.first_day_of_month,df.microbusiness_density,'-o',label='trainSC data')\n",
    "    plt.plot(df.first_day_of_month,p,'--',label='linear regression')\n",
    "    plt.plot(test.first_day_of_month.values[:8],preds[i,],'-o',label='test pred')\n",
    "    pre='YES, we WILL USE linear regression for\\n'\n",
    "    plt.title(f'{pre}CFIPS {c}',size=18)\n",
    "    plt.xlabel('Date',size=16)\n",
    "    plt.ylabel('Microbusiness Density',size=16)\n",
    "    plt.legend()\n",
    "    plt.show()\n",
    "    \n",
    "    plt.hist(err,bins=20,label='error')\n",
    "    plt.plot([-rng/2,-rng/2],[0,10],'--',color='black',label='range')\n",
    "    plt.plot([rng/2,rng/2],[0,10],'--',color='black')\n",
    "    plt.xlim((-rng * 0.75,rng * 0.75))\n",
    "    plt.legend()\n",
    "    plt.title(f'trainSC Error vs. trainSC Range. (avg={100*s:2.1f}%)',size=18)\n",
    "    plt.show()\n",
    "    print('\\n\\n\\n\\n\\n\\n')\n",
    "    \n",
    "# PRINT HOW MANY LINEAR TIME SERIES WE FOUND\n",
    "print(f'There are {lin_trend} counties with a linear trend.')"
   ]
  },
  {
   "cell_type": "code",
   "execution_count": null,
   "metadata": {},
   "outputs": [],
   "source": [
    "test['microbusiness_density'] = preds.reshape((-1))\n",
    "test['Linearity'] = linearity.reshape((-1))"
   ]
  },
  {
   "cell_type": "code",
   "execution_count": null,
   "metadata": {},
   "outputs": [],
   "source": [
    "test.shape\n",
    "trainSC.shape"
   ]
  },
  {
   "cell_type": "code",
   "execution_count": null,
   "metadata": {},
   "outputs": [],
   "source": [
    "#### Some EDA of the data after Linear Regression model fitting using only \n",
    "#### Shift corrected and the data with linear trends only."
   ]
  },
  {
   "cell_type": "code",
   "execution_count": null,
   "metadata": {},
   "outputs": [],
   "source": [
    "## To plot the counties with and without linear trends \n",
    "train2=trainSC[trainSC['cfips'].isin(test.loc[test.Linearity == 1.0, 'cfips'])]\n",
    "train3=trainSC[~trainSC['cfips'].isin(test.loc[test.Linearity == 1.0, 'cfips'])]\n",
    "test2=test[test['cfips'].isin(test.loc[test.Linearity == 1.0, 'cfips'])]\n",
    "test3=test[~test['cfips'].isin(test.loc[test.Linearity == 1.0, 'cfips'])]"
   ]
  },
  {
   "cell_type": "code",
   "execution_count": null,
   "metadata": {},
   "outputs": [],
   "source": [
    "## Counties that were fit with Linear Regression.\n",
    "fig = px.scatter(train2, x='first_day_of_month',y='microbusiness_density', color=\"county\", symbol=\"county\")\n",
    "fig.show()"
   ]
  },
  {
   "cell_type": "code",
   "execution_count": null,
   "metadata": {},
   "outputs": [],
   "source": [
    "## Counties that were NOT fit with Linear Regression\n",
    "fig = px.scatter(train3, x='first_day_of_month',y='microbusiness_density', color=\"county\", symbol=\"county\")\n",
    "fig.show()"
   ]
  },
  {
   "cell_type": "code",
   "execution_count": null,
   "metadata": {
    "scrolled": true
   },
   "outputs": [],
   "source": [
    "# plot the train and predicted (test) data whose linearity is 1.0\n",
    "fig = go.Figure()\n",
    "dfs = {\"df1\" : train2, \"df2\": test2}\n",
    "for i in dfs:\n",
    "    fig = fig.add_trace(go.Scatter(x = dfs[i][\"first_day_of_month\"],\n",
    "                                   y = dfs[i][\"microbusiness_density\"], \n",
    "                                   mode = 'markers',\n",
    "                                   name = i))\n",
    "fig.show()"
   ]
  },
  {
   "cell_type": "code",
   "execution_count": null,
   "metadata": {},
   "outputs": [],
   "source": [
    "# plot the train and predicted (test) data whose linearity is 1.0\n",
    "fig = go.Figure()\n",
    "dfs = {\"df1\" : train3, \"df2\": test3}\n",
    "for i in dfs:\n",
    "    fig = fig.add_trace(go.Scatter(x = dfs[i][\"first_day_of_month\"],\n",
    "                                   y = dfs[i][\"microbusiness_density\"], \n",
    "                                   mode = 'markers',\n",
    "                                   name = i))\n",
    "fig.show()"
   ]
  },
  {
   "cell_type": "code",
   "execution_count": null,
   "metadata": {},
   "outputs": [],
   "source": [
    "sub = test[['row_id','microbusiness_density']]\n",
    "sub.to_csv('submission.csv',index=False)"
   ]
  },
  {
   "cell_type": "markdown",
   "metadata": {},
   "source": [
    "#### Some Exploratory Data Analysis"
   ]
  },
  {
   "cell_type": "code",
   "execution_count": null,
   "metadata": {},
   "outputs": [],
   "source": [
    "fig = plt.figure(figsize=(12,12))\n",
    "sns.boxplot(data=train2, y=\"state\", x=\"microbusiness_density\",color=\"teal\")\n",
    "plt.ylabel(\"\")\n",
    "plt.show()"
   ]
  },
  {
   "cell_type": "code",
   "execution_count": null,
   "metadata": {},
   "outputs": [],
   "source": [
    "fig = plt.figure(figsize=(12,12))\n",
    "sns.boxplot(data=train3, y=\"state\", x=\"microbusiness_density\",color=\"red\")\n",
    "plt.ylabel(\"\")\n",
    "plt.show()"
   ]
  },
  {
   "cell_type": "code",
   "execution_count": null,
   "metadata": {},
   "outputs": [],
   "source": [
    "sort_std = train2.groupby(['state']).describe()['microbusiness_density'].sort_values('std').index\n",
    "each_state = train2.groupby(['state']).describe()['microbusiness_density'].sort_values('std')\n",
    "each_state"
   ]
  },
  {
   "cell_type": "code",
   "execution_count": null,
   "metadata": {},
   "outputs": [],
   "source": [
    "#len(list(set(train.cfips) & set(train5.cfips)))"
   ]
  },
  {
   "cell_type": "code",
   "execution_count": null,
   "metadata": {},
   "outputs": [],
   "source": [
    "fig = px.scatter(train3, x='first_day_of_month',y='microbusiness_density', color=\"county\", symbol=\"county\")\n",
    "fig.show()\n"
   ]
  },
  {
   "cell_type": "markdown",
   "metadata": {},
   "source": [
    "#### transition from August 2019 to October 2022 with 3 state that has most std "
   ]
  },
  {
   "cell_type": "code",
   "execution_count": null,
   "metadata": {},
   "outputs": [],
   "source": [
    "fig = px.scatter(train2[train2['state'].isin(['Wyoming','Colorado','Iowa'])], x='first_day_of_month',y='microbusiness_density', color=\"county\", symbol=\"county\")\n",
    "fig.show()\n"
   ]
  },
  {
   "cell_type": "markdown",
   "metadata": {},
   "source": [
    "#### transition from August 2019 to October 2022 with 3 state that has least std "
   ]
  },
  {
   "cell_type": "code",
   "execution_count": null,
   "metadata": {},
   "outputs": [],
   "source": [
    "fig = px.scatter(train2[train2['state'].isin(['Massachusetts','New Hampshire','Nevada'])], x='first_day_of_month',y='microbusiness_density', color=\"county\", symbol=\"county\")\n",
    "fig.show()\n"
   ]
  }
 ],
 "metadata": {
  "kernelspec": {
   "display_name": "Python 3 (ipykernel)",
   "language": "python",
   "name": "python3"
  },
  "language_info": {
   "codemirror_mode": {
    "name": "ipython",
    "version": 3
   },
   "file_extension": ".py",
   "mimetype": "text/x-python",
   "name": "python",
   "nbconvert_exporter": "python",
   "pygments_lexer": "ipython3",
   "version": "3.7.4"
  }
 },
 "nbformat": 4,
 "nbformat_minor": 4
}
